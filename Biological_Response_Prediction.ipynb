{
 "cells": [
  {
   "cell_type": "markdown",
   "metadata": {},
   "source": [
    "# Projet: Biological response prediction"
   ]
  },
  {
   "cell_type": "code",
   "execution_count": 2,
   "metadata": {
    "collapsed": true
   },
   "outputs": [],
   "source": [
    "from sklearn.ensemble import ExtraTreesClassifier\n",
    "import matplotlib.pyplot as plt\n",
    "import random\n",
    "import pandas as pd\n",
    "import numpy as np"
   ]
  },
  {
   "cell_type": "markdown",
   "metadata": {},
   "source": [
    "## 1. Lecture du Data set"
   ]
  },
  {
   "cell_type": "code",
   "execution_count": 19,
   "metadata": {
    "collapsed": false
   },
   "outputs": [
    {
     "name": "stdout",
     "output_type": "stream",
     "text": [
      "[1 1 1 1 1 1 0 1 1 1 1 1]\n"
     ]
    }
   ],
   "source": [
    "data = pd.read_csv(\"train.csv\", sep=\",\").as_matrix()[:,:]  #The first column is the target\n",
    "# We split the data for train set and a validation set\n",
    "# Actually the validation set will act like a test set here\n",
    "data = data.astype(int)\n",
    "random.shuffle(data)\n",
    "limit_train = int(0.8 * data.shape[0])\n",
    "train_set = data[:limit_train]\n",
    "valid_set = data[limit_train + 1:]\n",
    "\n",
    "#X_complet, y_complet = data[:, 1:], data[:, 0]\n",
    "\n",
    "X_train, y_train = train_set[:, 1:], train_set[:,0]\n",
    "X_valid, y_valid = valid_set[:, 1:], valid_set[:, 0]\n",
    "\n",
    "test_set = pd.read_csv(\"test.csv\", sep=\",\").as_matrix()\n",
    "test_set_x = test_set[:, 1:]"
   ]
  },
  {
   "cell_type": "markdown",
   "metadata": {},
   "source": [
    "## 2. Mesure de l'importance des features _ Random forest "
   ]
  },
  {
   "cell_type": "code",
   "execution_count": 12,
   "metadata": {
    "collapsed": false
   },
   "outputs": [
    {
     "name": "stdout",
     "output_type": "stream",
     "text": [
      "Using matplotlib backend: TkAgg\n"
     ]
    }
   ],
   "source": [
    "# Build a forest and compute the feature importances\n",
    "forest = ExtraTreesClassifier(n_estimators=250,\n",
    "                              random_state=0)\n",
    "\n",
    "forest.fit(X_train, y_train)\n",
    "importances = forest.feature_importances_\n",
    "std = np.std([tree.feature_importances_ for tree in forest.estimators_],\n",
    "             axis=0)\n",
    "indices = np.argsort(importances)[::-1]\n",
    "indices = indices[:50] # Afficher les 50 premiers seulement ! \n",
    "\n",
    "# Diagramme en barre permettant de connaitre l'importance des features\n",
    "%matplotlib auto\n",
    "df = pd.DataFrame( importances[indices], index = indices)\n",
    "df.plot(kind='bar', legend = False, width = .8, figsize = (15,5))\n",
    "plt.title(\"Features importance\")\n",
    "plt.show()"
   ]
  },
  {
   "cell_type": "code",
   "execution_count": null,
   "metadata": {
    "collapsed": true
   },
   "outputs": [],
   "source": []
  }
 ],
 "metadata": {
  "kernelspec": {
   "display_name": "Python 2",
   "language": "python",
   "name": "python2"
  },
  "language_info": {
   "codemirror_mode": {
    "name": "ipython",
    "version": 2
   },
   "file_extension": ".py",
   "mimetype": "text/x-python",
   "name": "python",
   "nbconvert_exporter": "python",
   "pygments_lexer": "ipython2",
   "version": "2.7.6"
  }
 },
 "nbformat": 4,
 "nbformat_minor": 1
}

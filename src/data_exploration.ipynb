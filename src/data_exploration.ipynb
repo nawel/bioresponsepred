{
 "cells": [
  {
   "cell_type": "markdown",
   "metadata": {},
   "source": [
    "# Projet Biological response prediction\n",
    "## Data exploration and preprocessing"
   ]
  },
  {
   "cell_type": "code",
   "execution_count": 51,
   "metadata": {
    "collapsed": true
   },
   "outputs": [],
   "source": [
    "from sklearn.ensemble import ExtraTreesClassifier\n",
    "import matplotlib.pyplot as plt\n",
    "%matplotlib inline\n",
    "import random\n",
    "import pandas as pd\n",
    "import numpy as np\n",
    "\n",
    "import seaborn as sns; sns.set() "
   ]
  },
  {
   "cell_type": "markdown",
   "metadata": {},
   "source": [
    "## 1. Reading data"
   ]
  },
  {
   "cell_type": "code",
   "execution_count": 42,
   "metadata": {
    "collapsed": false
   },
   "outputs": [],
   "source": [
    "path_train = \"../dataset/train.csv\"\n",
    "path_test = \"../dataset/test.csv\"\n",
    "data_pd = pd.read_csv(path_train, sep=\",\") #The first column is the target\n",
    "\n",
    "data = (data_pd.as_matrix()[:,:]).astype(float)\n",
    "#shuffling data\n",
    "random.shuffle(data)\n",
    "\n",
    "# We split the data for train set and a validation set\n",
    "# Actually the validation set will act like a test set here\n",
    "limit_train = int(0.8 * data.shape[0])\n",
    "train_set = data[:limit_train]\n",
    "valid_set = data[limit_train + 1:]\n",
    "\n",
    "#In case we need the dataframes\n",
    "train_pd=pd.DataFrame(train_set)\n",
    "valid_pd=pd.DataFrame(valid_set)\n",
    "\n",
    "\n",
    "#X_complet, y_complet = data[:, 1:], data[:, 0]\n",
    "\n",
    "X_train, y_train = train_set[:, 1:], train_set[:,0]\n",
    "X_valid, y_valid = valid_set[:, 1:], valid_set[:, 0]\n",
    "\n",
    "X_test = pd.read_csv(path_test, sep=\",\").as_matrix()\n"
   ]
  },
  {
   "cell_type": "code",
   "execution_count": 43,
   "metadata": {
    "collapsed": false
   },
   "outputs": [
    {
     "name": "stdout",
     "output_type": "stream",
     "text": [
      "Train set (3000, 1776) (3000,)\n",
      "Valid set (750, 1776) (750,)\n",
      "Test set  (2501, 1776)\n"
     ]
    }
   ],
   "source": [
    "print \"Train set\", X_train.shape , y_train.shape\n",
    "print \"Valid set\", X_valid.shape , y_valid.shape\n",
    "print \"Test set \", X_test.shape\n"
   ]
  },
  {
   "cell_type": "code",
   "execution_count": 44,
   "metadata": {
    "collapsed": false
   },
   "outputs": [
    {
     "name": "stdout",
     "output_type": "stream",
     "text": [
      "Exploring the tarin data set\n"
     ]
    },
    {
     "data": {
      "text/html": [
       "<div>\n",
       "<table border=\"1\" class=\"dataframe\">\n",
       "  <thead>\n",
       "    <tr style=\"text-align: right;\">\n",
       "      <th></th>\n",
       "      <th>0</th>\n",
       "      <th>1</th>\n",
       "      <th>2</th>\n",
       "      <th>3</th>\n",
       "      <th>4</th>\n",
       "      <th>5</th>\n",
       "      <th>6</th>\n",
       "      <th>7</th>\n",
       "      <th>8</th>\n",
       "      <th>9</th>\n",
       "      <th>...</th>\n",
       "      <th>1767</th>\n",
       "      <th>1768</th>\n",
       "      <th>1769</th>\n",
       "      <th>1770</th>\n",
       "      <th>1771</th>\n",
       "      <th>1772</th>\n",
       "      <th>1773</th>\n",
       "      <th>1774</th>\n",
       "      <th>1775</th>\n",
       "      <th>1776</th>\n",
       "    </tr>\n",
       "  </thead>\n",
       "  <tbody>\n",
       "    <tr>\n",
       "      <th>count</th>\n",
       "      <td>3000.000000</td>\n",
       "      <td>3000.000000</td>\n",
       "      <td>3000.000000</td>\n",
       "      <td>3000.000000</td>\n",
       "      <td>3000.000000</td>\n",
       "      <td>3000.000000</td>\n",
       "      <td>3000.000000</td>\n",
       "      <td>3000.000000</td>\n",
       "      <td>3000.000000</td>\n",
       "      <td>3000.000000</td>\n",
       "      <td>...</td>\n",
       "      <td>3000.000000</td>\n",
       "      <td>3000.000000</td>\n",
       "      <td>3000.000000</td>\n",
       "      <td>3000.000000</td>\n",
       "      <td>3000.000000</td>\n",
       "      <td>3000.000000</td>\n",
       "      <td>3000.000000</td>\n",
       "      <td>3000.000000</td>\n",
       "      <td>3000.000000</td>\n",
       "      <td>3000.000000</td>\n",
       "    </tr>\n",
       "    <tr>\n",
       "      <th>mean</th>\n",
       "      <td>0.568333</td>\n",
       "      <td>0.074744</td>\n",
       "      <td>0.594652</td>\n",
       "      <td>0.068417</td>\n",
       "      <td>0.041667</td>\n",
       "      <td>0.212788</td>\n",
       "      <td>0.684960</td>\n",
       "      <td>0.277123</td>\n",
       "      <td>0.453170</td>\n",
       "      <td>0.749037</td>\n",
       "      <td>...</td>\n",
       "      <td>0.028667</td>\n",
       "      <td>0.016667</td>\n",
       "      <td>0.016000</td>\n",
       "      <td>0.030000</td>\n",
       "      <td>0.015667</td>\n",
       "      <td>0.020000</td>\n",
       "      <td>0.013333</td>\n",
       "      <td>0.013000</td>\n",
       "      <td>0.023333</td>\n",
       "      <td>0.014667</td>\n",
       "    </tr>\n",
       "    <tr>\n",
       "      <th>std</th>\n",
       "      <td>0.495391</td>\n",
       "      <td>0.069960</td>\n",
       "      <td>0.103512</td>\n",
       "      <td>0.075731</td>\n",
       "      <td>0.114462</td>\n",
       "      <td>0.103483</td>\n",
       "      <td>0.077444</td>\n",
       "      <td>0.086984</td>\n",
       "      <td>0.163012</td>\n",
       "      <td>0.070964</td>\n",
       "      <td>...</td>\n",
       "      <td>0.166896</td>\n",
       "      <td>0.128040</td>\n",
       "      <td>0.125496</td>\n",
       "      <td>0.170616</td>\n",
       "      <td>0.124203</td>\n",
       "      <td>0.140023</td>\n",
       "      <td>0.114717</td>\n",
       "      <td>0.113293</td>\n",
       "      <td>0.150985</td>\n",
       "      <td>0.120235</td>\n",
       "    </tr>\n",
       "    <tr>\n",
       "      <th>min</th>\n",
       "      <td>0.000000</td>\n",
       "      <td>0.000000</td>\n",
       "      <td>0.317045</td>\n",
       "      <td>0.000000</td>\n",
       "      <td>0.000000</td>\n",
       "      <td>0.026300</td>\n",
       "      <td>0.391600</td>\n",
       "      <td>0.060500</td>\n",
       "      <td>0.067800</td>\n",
       "      <td>0.387508</td>\n",
       "      <td>...</td>\n",
       "      <td>0.000000</td>\n",
       "      <td>0.000000</td>\n",
       "      <td>0.000000</td>\n",
       "      <td>0.000000</td>\n",
       "      <td>0.000000</td>\n",
       "      <td>0.000000</td>\n",
       "      <td>0.000000</td>\n",
       "      <td>0.000000</td>\n",
       "      <td>0.000000</td>\n",
       "      <td>0.000000</td>\n",
       "    </tr>\n",
       "    <tr>\n",
       "      <th>25%</th>\n",
       "      <td>0.000000</td>\n",
       "      <td>0.033300</td>\n",
       "      <td>0.517794</td>\n",
       "      <td>0.000000</td>\n",
       "      <td>0.000000</td>\n",
       "      <td>0.136739</td>\n",
       "      <td>0.625072</td>\n",
       "      <td>0.212701</td>\n",
       "      <td>0.367995</td>\n",
       "      <td>0.704711</td>\n",
       "      <td>...</td>\n",
       "      <td>0.000000</td>\n",
       "      <td>0.000000</td>\n",
       "      <td>0.000000</td>\n",
       "      <td>0.000000</td>\n",
       "      <td>0.000000</td>\n",
       "      <td>0.000000</td>\n",
       "      <td>0.000000</td>\n",
       "      <td>0.000000</td>\n",
       "      <td>0.000000</td>\n",
       "      <td>0.000000</td>\n",
       "    </tr>\n",
       "    <tr>\n",
       "      <th>50%</th>\n",
       "      <td>1.000000</td>\n",
       "      <td>0.066700</td>\n",
       "      <td>0.589369</td>\n",
       "      <td>0.050000</td>\n",
       "      <td>0.000000</td>\n",
       "      <td>0.192214</td>\n",
       "      <td>0.669226</td>\n",
       "      <td>0.279114</td>\n",
       "      <td>0.499470</td>\n",
       "      <td>0.736242</td>\n",
       "      <td>...</td>\n",
       "      <td>0.000000</td>\n",
       "      <td>0.000000</td>\n",
       "      <td>0.000000</td>\n",
       "      <td>0.000000</td>\n",
       "      <td>0.000000</td>\n",
       "      <td>0.000000</td>\n",
       "      <td>0.000000</td>\n",
       "      <td>0.000000</td>\n",
       "      <td>0.000000</td>\n",
       "      <td>0.000000</td>\n",
       "    </tr>\n",
       "    <tr>\n",
       "      <th>75%</th>\n",
       "      <td>1.000000</td>\n",
       "      <td>0.100000</td>\n",
       "      <td>0.672925</td>\n",
       "      <td>0.100000</td>\n",
       "      <td>0.000000</td>\n",
       "      <td>0.263255</td>\n",
       "      <td>0.738631</td>\n",
       "      <td>0.337775</td>\n",
       "      <td>0.569352</td>\n",
       "      <td>0.789127</td>\n",
       "      <td>...</td>\n",
       "      <td>0.000000</td>\n",
       "      <td>0.000000</td>\n",
       "      <td>0.000000</td>\n",
       "      <td>0.000000</td>\n",
       "      <td>0.000000</td>\n",
       "      <td>0.000000</td>\n",
       "      <td>0.000000</td>\n",
       "      <td>0.000000</td>\n",
       "      <td>0.000000</td>\n",
       "      <td>0.000000</td>\n",
       "    </tr>\n",
       "    <tr>\n",
       "      <th>max</th>\n",
       "      <td>1.000000</td>\n",
       "      <td>0.600000</td>\n",
       "      <td>0.911798</td>\n",
       "      <td>0.600000</td>\n",
       "      <td>1.000000</td>\n",
       "      <td>1.000000</td>\n",
       "      <td>0.994735</td>\n",
       "      <td>0.568008</td>\n",
       "      <td>0.915345</td>\n",
       "      <td>1.000000</td>\n",
       "      <td>...</td>\n",
       "      <td>1.000000</td>\n",
       "      <td>1.000000</td>\n",
       "      <td>1.000000</td>\n",
       "      <td>1.000000</td>\n",
       "      <td>1.000000</td>\n",
       "      <td>1.000000</td>\n",
       "      <td>1.000000</td>\n",
       "      <td>1.000000</td>\n",
       "      <td>1.000000</td>\n",
       "      <td>1.000000</td>\n",
       "    </tr>\n",
       "  </tbody>\n",
       "</table>\n",
       "<p>8 rows × 1777 columns</p>\n",
       "</div>"
      ],
      "text/plain": [
       "              0            1            2            3            4     \\\n",
       "count  3000.000000  3000.000000  3000.000000  3000.000000  3000.000000   \n",
       "mean      0.568333     0.074744     0.594652     0.068417     0.041667   \n",
       "std       0.495391     0.069960     0.103512     0.075731     0.114462   \n",
       "min       0.000000     0.000000     0.317045     0.000000     0.000000   \n",
       "25%       0.000000     0.033300     0.517794     0.000000     0.000000   \n",
       "50%       1.000000     0.066700     0.589369     0.050000     0.000000   \n",
       "75%       1.000000     0.100000     0.672925     0.100000     0.000000   \n",
       "max       1.000000     0.600000     0.911798     0.600000     1.000000   \n",
       "\n",
       "              5            6            7            8            9     \\\n",
       "count  3000.000000  3000.000000  3000.000000  3000.000000  3000.000000   \n",
       "mean      0.212788     0.684960     0.277123     0.453170     0.749037   \n",
       "std       0.103483     0.077444     0.086984     0.163012     0.070964   \n",
       "min       0.026300     0.391600     0.060500     0.067800     0.387508   \n",
       "25%       0.136739     0.625072     0.212701     0.367995     0.704711   \n",
       "50%       0.192214     0.669226     0.279114     0.499470     0.736242   \n",
       "75%       0.263255     0.738631     0.337775     0.569352     0.789127   \n",
       "max       1.000000     0.994735     0.568008     0.915345     1.000000   \n",
       "\n",
       "          ...              1767         1768         1769         1770  \\\n",
       "count     ...       3000.000000  3000.000000  3000.000000  3000.000000   \n",
       "mean      ...          0.028667     0.016667     0.016000     0.030000   \n",
       "std       ...          0.166896     0.128040     0.125496     0.170616   \n",
       "min       ...          0.000000     0.000000     0.000000     0.000000   \n",
       "25%       ...          0.000000     0.000000     0.000000     0.000000   \n",
       "50%       ...          0.000000     0.000000     0.000000     0.000000   \n",
       "75%       ...          0.000000     0.000000     0.000000     0.000000   \n",
       "max       ...          1.000000     1.000000     1.000000     1.000000   \n",
       "\n",
       "              1771         1772         1773         1774         1775  \\\n",
       "count  3000.000000  3000.000000  3000.000000  3000.000000  3000.000000   \n",
       "mean      0.015667     0.020000     0.013333     0.013000     0.023333   \n",
       "std       0.124203     0.140023     0.114717     0.113293     0.150985   \n",
       "min       0.000000     0.000000     0.000000     0.000000     0.000000   \n",
       "25%       0.000000     0.000000     0.000000     0.000000     0.000000   \n",
       "50%       0.000000     0.000000     0.000000     0.000000     0.000000   \n",
       "75%       0.000000     0.000000     0.000000     0.000000     0.000000   \n",
       "max       1.000000     1.000000     1.000000     1.000000     1.000000   \n",
       "\n",
       "              1776  \n",
       "count  3000.000000  \n",
       "mean      0.014667  \n",
       "std       0.120235  \n",
       "min       0.000000  \n",
       "25%       0.000000  \n",
       "50%       0.000000  \n",
       "75%       0.000000  \n",
       "max       1.000000  \n",
       "\n",
       "[8 rows x 1777 columns]"
      ]
     },
     "execution_count": 44,
     "metadata": {},
     "output_type": "execute_result"
    }
   ],
   "source": [
    "print \"Exploring the tarin data set\"\n",
    "train_pd.describe()"
   ]
  },
  {
   "cell_type": "code",
   "execution_count": 5,
   "metadata": {
    "collapsed": false
   },
   "outputs": [
    {
     "name": "stdout",
     "output_type": "stream",
     "text": [
      "Exploring the valid data set\n"
     ]
    },
    {
     "data": {
      "text/html": [
       "<div>\n",
       "<table border=\"1\" class=\"dataframe\">\n",
       "  <thead>\n",
       "    <tr style=\"text-align: right;\">\n",
       "      <th></th>\n",
       "      <th>0</th>\n",
       "      <th>1</th>\n",
       "      <th>2</th>\n",
       "      <th>3</th>\n",
       "      <th>4</th>\n",
       "      <th>5</th>\n",
       "      <th>6</th>\n",
       "      <th>7</th>\n",
       "      <th>8</th>\n",
       "      <th>9</th>\n",
       "      <th>...</th>\n",
       "      <th>1767</th>\n",
       "      <th>1768</th>\n",
       "      <th>1769</th>\n",
       "      <th>1770</th>\n",
       "      <th>1771</th>\n",
       "      <th>1772</th>\n",
       "      <th>1773</th>\n",
       "      <th>1774</th>\n",
       "      <th>1775</th>\n",
       "      <th>1776</th>\n",
       "    </tr>\n",
       "  </thead>\n",
       "  <tbody>\n",
       "    <tr>\n",
       "      <th>count</th>\n",
       "      <td>750.000000</td>\n",
       "      <td>750.0</td>\n",
       "      <td>750.0</td>\n",
       "      <td>750.0</td>\n",
       "      <td>750.000000</td>\n",
       "      <td>750.0</td>\n",
       "      <td>750.0</td>\n",
       "      <td>750.0</td>\n",
       "      <td>750.0</td>\n",
       "      <td>750.000000</td>\n",
       "      <td>...</td>\n",
       "      <td>750.000000</td>\n",
       "      <td>750.000000</td>\n",
       "      <td>750.000000</td>\n",
       "      <td>750.000000</td>\n",
       "      <td>750.000000</td>\n",
       "      <td>750.000000</td>\n",
       "      <td>750.000000</td>\n",
       "      <td>750.000000</td>\n",
       "      <td>750.000000</td>\n",
       "      <td>750.000000</td>\n",
       "    </tr>\n",
       "    <tr>\n",
       "      <th>mean</th>\n",
       "      <td>0.516000</td>\n",
       "      <td>0.0</td>\n",
       "      <td>0.0</td>\n",
       "      <td>0.0</td>\n",
       "      <td>0.004000</td>\n",
       "      <td>0.0</td>\n",
       "      <td>0.0</td>\n",
       "      <td>0.0</td>\n",
       "      <td>0.0</td>\n",
       "      <td>0.001333</td>\n",
       "      <td>...</td>\n",
       "      <td>0.032000</td>\n",
       "      <td>0.024000</td>\n",
       "      <td>0.016000</td>\n",
       "      <td>0.030667</td>\n",
       "      <td>0.021333</td>\n",
       "      <td>0.024000</td>\n",
       "      <td>0.016000</td>\n",
       "      <td>0.017333</td>\n",
       "      <td>0.018667</td>\n",
       "      <td>0.012000</td>\n",
       "    </tr>\n",
       "    <tr>\n",
       "      <th>std</th>\n",
       "      <td>0.500077</td>\n",
       "      <td>0.0</td>\n",
       "      <td>0.0</td>\n",
       "      <td>0.0</td>\n",
       "      <td>0.063161</td>\n",
       "      <td>0.0</td>\n",
       "      <td>0.0</td>\n",
       "      <td>0.0</td>\n",
       "      <td>0.0</td>\n",
       "      <td>0.036515</td>\n",
       "      <td>...</td>\n",
       "      <td>0.176117</td>\n",
       "      <td>0.153151</td>\n",
       "      <td>0.125559</td>\n",
       "      <td>0.172528</td>\n",
       "      <td>0.144589</td>\n",
       "      <td>0.153151</td>\n",
       "      <td>0.125559</td>\n",
       "      <td>0.130597</td>\n",
       "      <td>0.135435</td>\n",
       "      <td>0.108958</td>\n",
       "    </tr>\n",
       "    <tr>\n",
       "      <th>min</th>\n",
       "      <td>0.000000</td>\n",
       "      <td>0.0</td>\n",
       "      <td>0.0</td>\n",
       "      <td>0.0</td>\n",
       "      <td>0.000000</td>\n",
       "      <td>0.0</td>\n",
       "      <td>0.0</td>\n",
       "      <td>0.0</td>\n",
       "      <td>0.0</td>\n",
       "      <td>0.000000</td>\n",
       "      <td>...</td>\n",
       "      <td>0.000000</td>\n",
       "      <td>0.000000</td>\n",
       "      <td>0.000000</td>\n",
       "      <td>0.000000</td>\n",
       "      <td>0.000000</td>\n",
       "      <td>0.000000</td>\n",
       "      <td>0.000000</td>\n",
       "      <td>0.000000</td>\n",
       "      <td>0.000000</td>\n",
       "      <td>0.000000</td>\n",
       "    </tr>\n",
       "    <tr>\n",
       "      <th>25%</th>\n",
       "      <td>0.000000</td>\n",
       "      <td>0.0</td>\n",
       "      <td>0.0</td>\n",
       "      <td>0.0</td>\n",
       "      <td>0.000000</td>\n",
       "      <td>0.0</td>\n",
       "      <td>0.0</td>\n",
       "      <td>0.0</td>\n",
       "      <td>0.0</td>\n",
       "      <td>0.000000</td>\n",
       "      <td>...</td>\n",
       "      <td>0.000000</td>\n",
       "      <td>0.000000</td>\n",
       "      <td>0.000000</td>\n",
       "      <td>0.000000</td>\n",
       "      <td>0.000000</td>\n",
       "      <td>0.000000</td>\n",
       "      <td>0.000000</td>\n",
       "      <td>0.000000</td>\n",
       "      <td>0.000000</td>\n",
       "      <td>0.000000</td>\n",
       "    </tr>\n",
       "    <tr>\n",
       "      <th>50%</th>\n",
       "      <td>1.000000</td>\n",
       "      <td>0.0</td>\n",
       "      <td>0.0</td>\n",
       "      <td>0.0</td>\n",
       "      <td>0.000000</td>\n",
       "      <td>0.0</td>\n",
       "      <td>0.0</td>\n",
       "      <td>0.0</td>\n",
       "      <td>0.0</td>\n",
       "      <td>0.000000</td>\n",
       "      <td>...</td>\n",
       "      <td>0.000000</td>\n",
       "      <td>0.000000</td>\n",
       "      <td>0.000000</td>\n",
       "      <td>0.000000</td>\n",
       "      <td>0.000000</td>\n",
       "      <td>0.000000</td>\n",
       "      <td>0.000000</td>\n",
       "      <td>0.000000</td>\n",
       "      <td>0.000000</td>\n",
       "      <td>0.000000</td>\n",
       "    </tr>\n",
       "    <tr>\n",
       "      <th>75%</th>\n",
       "      <td>1.000000</td>\n",
       "      <td>0.0</td>\n",
       "      <td>0.0</td>\n",
       "      <td>0.0</td>\n",
       "      <td>0.000000</td>\n",
       "      <td>0.0</td>\n",
       "      <td>0.0</td>\n",
       "      <td>0.0</td>\n",
       "      <td>0.0</td>\n",
       "      <td>0.000000</td>\n",
       "      <td>...</td>\n",
       "      <td>0.000000</td>\n",
       "      <td>0.000000</td>\n",
       "      <td>0.000000</td>\n",
       "      <td>0.000000</td>\n",
       "      <td>0.000000</td>\n",
       "      <td>0.000000</td>\n",
       "      <td>0.000000</td>\n",
       "      <td>0.000000</td>\n",
       "      <td>0.000000</td>\n",
       "      <td>0.000000</td>\n",
       "    </tr>\n",
       "    <tr>\n",
       "      <th>max</th>\n",
       "      <td>1.000000</td>\n",
       "      <td>0.0</td>\n",
       "      <td>0.0</td>\n",
       "      <td>0.0</td>\n",
       "      <td>1.000000</td>\n",
       "      <td>0.0</td>\n",
       "      <td>0.0</td>\n",
       "      <td>0.0</td>\n",
       "      <td>0.0</td>\n",
       "      <td>1.000000</td>\n",
       "      <td>...</td>\n",
       "      <td>1.000000</td>\n",
       "      <td>1.000000</td>\n",
       "      <td>1.000000</td>\n",
       "      <td>1.000000</td>\n",
       "      <td>1.000000</td>\n",
       "      <td>1.000000</td>\n",
       "      <td>1.000000</td>\n",
       "      <td>1.000000</td>\n",
       "      <td>1.000000</td>\n",
       "      <td>1.000000</td>\n",
       "    </tr>\n",
       "  </tbody>\n",
       "</table>\n",
       "<p>8 rows × 1777 columns</p>\n",
       "</div>"
      ],
      "text/plain": [
       "             0      1      2      3           4      5      6      7     \\\n",
       "count  750.000000  750.0  750.0  750.0  750.000000  750.0  750.0  750.0   \n",
       "mean     0.516000    0.0    0.0    0.0    0.004000    0.0    0.0    0.0   \n",
       "std      0.500077    0.0    0.0    0.0    0.063161    0.0    0.0    0.0   \n",
       "min      0.000000    0.0    0.0    0.0    0.000000    0.0    0.0    0.0   \n",
       "25%      0.000000    0.0    0.0    0.0    0.000000    0.0    0.0    0.0   \n",
       "50%      1.000000    0.0    0.0    0.0    0.000000    0.0    0.0    0.0   \n",
       "75%      1.000000    0.0    0.0    0.0    0.000000    0.0    0.0    0.0   \n",
       "max      1.000000    0.0    0.0    0.0    1.000000    0.0    0.0    0.0   \n",
       "\n",
       "        8           9        ...            1767        1768        1769  \\\n",
       "count  750.0  750.000000     ...      750.000000  750.000000  750.000000   \n",
       "mean     0.0    0.001333     ...        0.032000    0.024000    0.016000   \n",
       "std      0.0    0.036515     ...        0.176117    0.153151    0.125559   \n",
       "min      0.0    0.000000     ...        0.000000    0.000000    0.000000   \n",
       "25%      0.0    0.000000     ...        0.000000    0.000000    0.000000   \n",
       "50%      0.0    0.000000     ...        0.000000    0.000000    0.000000   \n",
       "75%      0.0    0.000000     ...        0.000000    0.000000    0.000000   \n",
       "max      0.0    1.000000     ...        1.000000    1.000000    1.000000   \n",
       "\n",
       "             1770        1771        1772        1773        1774        1775  \\\n",
       "count  750.000000  750.000000  750.000000  750.000000  750.000000  750.000000   \n",
       "mean     0.030667    0.021333    0.024000    0.016000    0.017333    0.018667   \n",
       "std      0.172528    0.144589    0.153151    0.125559    0.130597    0.135435   \n",
       "min      0.000000    0.000000    0.000000    0.000000    0.000000    0.000000   \n",
       "25%      0.000000    0.000000    0.000000    0.000000    0.000000    0.000000   \n",
       "50%      0.000000    0.000000    0.000000    0.000000    0.000000    0.000000   \n",
       "75%      0.000000    0.000000    0.000000    0.000000    0.000000    0.000000   \n",
       "max      1.000000    1.000000    1.000000    1.000000    1.000000    1.000000   \n",
       "\n",
       "             1776  \n",
       "count  750.000000  \n",
       "mean     0.012000  \n",
       "std      0.108958  \n",
       "min      0.000000  \n",
       "25%      0.000000  \n",
       "50%      0.000000  \n",
       "75%      0.000000  \n",
       "max      1.000000  \n",
       "\n",
       "[8 rows x 1777 columns]"
      ]
     },
     "execution_count": 5,
     "metadata": {},
     "output_type": "execute_result"
    }
   ],
   "source": [
    "print \"Exploring the valid data set\"\n",
    "valid_pd.describe()"
   ]
  },
  {
   "cell_type": "code",
   "execution_count": 6,
   "metadata": {
    "collapsed": false
   },
   "outputs": [
    {
     "name": "stdout",
     "output_type": "stream",
     "text": [
      "Is the dataset unbalanced ?\n"
     ]
    },
    {
     "data": {
      "text/plain": [
       "<matplotlib.axes._subplots.AxesSubplot at 0x7f99648d2ed0>"
      ]
     },
     "execution_count": 6,
     "metadata": {},
     "output_type": "execute_result"
    },
    {
     "data": {
      "image/png": "[encoded data removed]",
      "text/plain": [
       "<matplotlib.figure.Figure at 0x7f996490b110>"
      ]
     },
     "metadata": {},
     "output_type": "display_data"
    }
   ],
   "source": [
    "print 'Is the dataset unbalanced ?'\n",
    "\n",
    "sns.set(style=\"darkgrid\")\n",
    "sns.countplot(x='Activity', data=data_pd)"
   ]
  },
  {
   "cell_type": "code",
   "execution_count": 45,
   "metadata": {
    "collapsed": false
   },
   "outputs": [
    {
     "name": "stdout",
     "output_type": "stream",
     "text": [
      "ExtraTreesClassifier, to find most important features\n",
      "Using matplotlib backend: Qt4Agg\n"
     ]
    }
   ],
   "source": [
    "print 'ExtraTreesClassifier, to find most important features'\n",
    "\n",
    "# Build a forest and compute the feature importances\n",
    "forest = ExtraTreesClassifier(n_estimators=250,\n",
    "                              random_state=0)\n",
    "\n",
    "forest.fit(X_train, y_train)\n",
    "importances = forest.feature_importances_\n",
    "std = np.std([tree.feature_importances_ for tree in forest.estimators_],\n",
    "             axis=0)\n",
    "indices = np.argsort(importances)[::-1]\n",
    "indices = indices[:50] # Afficher les 50 premiers seulement ! \n",
    "\n",
    "# Diagramme en barre permettant de connaitre l'importance des features\n",
    "%matplotlib auto\n",
    "df = pd.DataFrame( importances[indices], index = indices)\n",
    "df.plot(kind='bar', legend = False, width = .8, figsize = (15,5))\n",
    "plt.title(\"Features importance\")\n",
    "plt.show()"
   ]
  },
  {
   "cell_type": "code",
   "execution_count": null,
   "metadata": {
    "collapsed": false
   },
   "outputs": [],
   "source": []
  },
  {
   "cell_type": "code",
   "execution_count": null,
   "metadata": {
    "collapsed": false
   },
   "outputs": [],
   "source": []
  },
  {
   "cell_type": "code",
   "execution_count": 95,
   "metadata": {
    "collapsed": false
   },
   "outputs": [
    {
     "name": "stdout",
     "output_type": "stream",
     "text": [
      "Is this dataset clearly separable ? \n",
      "Feature treshold :  0.00844594594595\n",
      "Top 1 of Good Features: [26]\n"
     ]
    },
    {
     "data": {
      "text/plain": [
       "<seaborn.axisgrid.PairGrid at 0x7f995946f690>"
      ]
     },
     "execution_count": 95,
     "metadata": {},
     "output_type": "execute_result"
    },
    {
     "data": {
      "image/png": "[encoded data removed]",
      "text/plain": [
       "<matplotlib.figure.Figure at 0x7f995946f610>"
      ]
     },
     "metadata": {},
     "output_type": "display_data"
    }
   ],
   "source": [
    "print 'Is this dataset clearly separable ? '\n",
    "\n",
    "goodFeatures = []\n",
    "\n",
    "features =importances\n",
    "\n",
    "featuresThreshold = 15 #This threshold modifies number of good features.\n",
    "\n",
    "print \"Feature treshold : \", np.mean(features)*featuresThreshold\n",
    "\n",
    "for feature in range(len(features)):\n",
    "    if(features[feature] > np.mean(features)*featuresThreshold):\n",
    "        goodFeatures.append(feature)\n",
    "        \n",
    "print 'Top '+ str(len(goodFeatures))+ ' of Good Features: ' + str(goodFeatures)\n",
    "\n",
    "sns.set(style=\"ticks\", color_codes=True)\n",
    "sns.pairplot(data_pd[data_pd.columns[goodFeatures + [0]]], hue='Activity')\n"
   ]
  },
  {
   "cell_type": "code",
   "execution_count": 49,
   "metadata": {
    "collapsed": false
   },
   "outputs": [],
   "source": [
    "from sklearn.decomposition import PCA,  IncrementalPCA\n",
    "n_components = [40,50,60,70,80,90,100,150,200,250,300,350]\n",
    "ratio_train=[]\n",
    "ratio_valid=[]\n",
    "ratio_test=[]\n",
    "for cp in n_components:\n",
    "    ipca = IncrementalPCA(n_components=cp, batch_size=cp)\n",
    "    X_ipca = ipca.fit_transform(X_train)\n",
    "    #print('PCA Results: ')\n",
    "    #print (ipca.explained_variance_ratio_) \n",
    "    ratio_train.append(np.sum(ipca.explained_variance_ratio_))\n",
    "    X_ipca=ipca.fit_transform(X_valid)\n",
    "    ratio_valid.append(np.sum(ipca.explained_variance_ratio_))\n",
    "    X_ipca=ipca.fit_transform(X_test)\n",
    "    ratio_test.append(np.sum(ipca.explained_variance_ratio_))"
   ]
  },
  {
   "cell_type": "code",
   "execution_count": null,
   "metadata": {
    "collapsed": false
   },
   "outputs": [],
   "source": []
  },
  {
   "cell_type": "code",
   "execution_count": 52,
   "metadata": {
    "collapsed": false
   },
   "outputs": [
    {
     "data": {
      "text/plain": [
       "<matplotlib.legend.Legend at 0x7f9958eedad0>"
      ]
     },
     "execution_count": 52,
     "metadata": {},
     "output_type": "execute_result"
    },
    {
     "data": {
      "image/png": "[encoded data removed]",
      "text/plain": [
       "<matplotlib.figure.Figure at 0x7f99505a8590>"
      ]
     },
     "metadata": {},
     "output_type": "display_data"
    }
   ],
   "source": [
    "import matplotlib.pyplot as plt\n",
    "plt.plot(n_components, ratio_train, label='Train')\n",
    "plt.plot(n_components, ratio_valid,  label='Valid')\n",
    "plt.plot(n_components, ratio_test, label='Test')\n",
    "plt.ylabel('Explained variance')\n",
    "plt.xlabel('Number of components')\n",
    "plt.title('Comparing ratio of explained variance depending on the number of components')\n",
    "plt.legend()"
   ]
  },
  {
   "cell_type": "markdown",
   "metadata": {},
   "source": [
    "## Correlations "
   ]
  },
  {
   "cell_type": "code",
   "execution_count": 57,
   "metadata": {
    "collapsed": false
   },
   "outputs": [],
   "source": [
    "corr=data_pd.corr()"
   ]
  },
  {
   "cell_type": "code",
   "execution_count": 73,
   "metadata": {
    "collapsed": false
   },
   "outputs": [
    {
     "data": {
      "text/plain": [
       "Activity    1.000000\n",
       "D27         0.472340\n",
       "D146        0.213311\n",
       "D182        0.228664\n",
       "D209        0.210154\n",
       "D469        0.268601\n",
       "D596        0.204092\n",
       "D607        0.210270\n",
       "D659        0.226049\n",
       "D660        0.204864\n",
       "D747        0.226468\n",
       "Name: Activity, dtype: float64"
      ]
     },
     "execution_count": 73,
     "metadata": {},
     "output_type": "execute_result"
    }
   ],
   "source": [
    "corr['Activity'][corr['Activity']>0.2]"
   ]
  },
  {
   "cell_type": "markdown",
   "metadata": {
    "collapsed": false
   },
   "source": [
    "## Missing values , no missing values"
   ]
  },
  {
   "cell_type": "code",
   "execution_count": 15,
   "metadata": {
    "collapsed": false
   },
   "outputs": [
    {
     "data": {
      "text/plain": [
       "0"
      ]
     },
     "execution_count": 15,
     "metadata": {},
     "output_type": "execute_result"
    }
   ],
   "source": [
    "data_pd.isnull().values.ravel().sum()"
   ]
  },
  {
   "cell_type": "markdown",
   "metadata": {},
   "source": [
    "## Detecting outliers"
   ]
  },
  {
   "cell_type": "code",
   "execution_count": null,
   "metadata": {
    "collapsed": false
   },
   "outputs": [],
   "source": []
  },
  {
   "cell_type": "code",
   "execution_count": null,
   "metadata": {
    "collapsed": false
   },
   "outputs": [],
   "source": []
  }
 ],
 "metadata": {
  "kernelspec": {
   "display_name": "Python [Root]",
   "language": "python",
   "name": "Python [Root]"
  },
  "language_info": {
   "codemirror_mode": {
    "name": "ipython",
    "version": 2
   },
   "file_extension": ".py",
   "mimetype": "text/x-python",
   "name": "python",
   "nbconvert_exporter": "python",
   "pygments_lexer": "ipython2",
   "version": "2.7.12"
  }
 },
 "nbformat": 4,
 "nbformat_minor": 1
}
